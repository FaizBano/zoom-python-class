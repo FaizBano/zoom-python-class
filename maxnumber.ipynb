{
  "nbformat": 4,
  "nbformat_minor": 0,
  "metadata": {
    "colab": {
      "provenance": [],
      "authorship_tag": "ABX9TyOJ8MG07WGj88FzCeFdpNCU",
      "include_colab_link": true
    },
    "kernelspec": {
      "name": "python3",
      "display_name": "Python 3"
    },
    "language_info": {
      "name": "python"
    }
  },
  "cells": [
    {
      "cell_type": "markdown",
      "metadata": {
        "id": "view-in-github",
        "colab_type": "text"
      },
      "source": [
        "<a href=\"https://colab.research.google.com/github/FaizBano/zoom-python-class/blob/main/maxnumber.ipynb\" target=\"_parent\"><img src=\"https://colab.research.google.com/assets/colab-badge.svg\" alt=\"Open In Colab\"/></a>"
      ]
    },
    {
      "cell_type": "markdown",
      "source": [
        "**FIND THE MAXIMUM NUMBER WITH INDEX NO.**"
      ],
      "metadata": {
        "id": "VBTpver5RCw8"
      }
    },
    {
      "cell_type": "code",
      "execution_count": null,
      "metadata": {
        "colab": {
          "base_uri": "https://localhost:8080/"
        },
        "id": "IliDEBtFQ4kZ",
        "outputId": "cbd00adf-5fa6-4055-9554-7a88f88fc970"
      },
      "outputs": [
        {
          "output_type": "stream",
          "name": "stdout",
          "text": [
            "The greatest number is 99 at index 1\n"
          ]
        }
      ],
      "source": [
        "def find_max_with_index(lst):\n",
        "    if not lst:  # Check if the list is empty\n",
        "        return \"The list is empty\"\n",
        "\n",
        "    max_value = max(lst)  # Find the maximum value\n",
        "    max_index = lst.index(max_value)  # Find the index of the maximum value\n",
        "\n",
        "    return max_value, max_index  # Return the result as a tuple\n",
        "\n",
        "# Given list\n",
        "number = [88, 99, 55, 86, 23, 77, 88]\n",
        "\n",
        "# Call the function and store the result\n",
        "max_num, max_idx = find_max_with_index(number)\n",
        "\n",
        "# Display the result\n",
        "print(f\"The greatest number is {max_num} at index {max_idx}\")\n"
      ]
    }
  ]
}