{
  "nbformat": 4,
  "nbformat_minor": 0,
  "metadata": {
    "colab": {
      "provenance": [],
      "authorship_tag": "ABX9TyPh/t3l2y+LYY6y6PxhQbjw",
      "include_colab_link": true
    },
    "kernelspec": {
      "name": "python3",
      "display_name": "Python 3"
    },
    "language_info": {
      "name": "python"
    }
  },
  "cells": [
    {
      "cell_type": "markdown",
      "metadata": {
        "id": "view-in-github",
        "colab_type": "text"
      },
      "source": [
        "<a href=\"https://colab.research.google.com/github/FaizBano/zoom-python-class/blob/main/project1madlibpython.ipynb\" target=\"_parent\"><img src=\"https://colab.research.google.com/assets/colab-badge.svg\" alt=\"Open In Colab\"/></a>"
      ]
    },
    {
      "cell_type": "markdown",
      "source": [],
      "metadata": {
        "id": "Or9U1mZPAzl1"
      }
    },
    {
      "cell_type": "markdown",
      "source": [
        "**First Project**"
      ],
      "metadata": {
        "id": "LfYPrhCH3pyt"
      }
    },
    {
      "cell_type": "markdown",
      "source": [],
      "metadata": {
        "id": "pk-VTBN68tLE"
      }
    },
    {
      "cell_type": "code",
      "source": [
        "def madlibs():\n",
        "    name = str (input(\"Enter Your Name..\"))\n",
        "    city = str (input(\"Enter your City...\"))\n",
        "    verb = str(input(\"Verb...\"))\n",
        "    animal= str (input(\"Animal Name...\"))\n",
        "    adjective=str(input(\"Enter Adjective....\"))\n",
        "\n",
        "    story=str (f\"There was a Teacher his name was {name} he belongs to {city} \\n he was {verb} in a School. he also had a pet {animal}\\n he alway keep {animal} whith him and also in class because he was very {adjective} not only with his students but also whith animals \" )\n",
        "    print (story)\n",
        "madlibs()"
      ],
      "metadata": {
        "colab": {
          "base_uri": "https://localhost:8080/"
        },
        "id": "CH-Upd4924Lt",
        "outputId": "6c37cef2-7876-483e-9288-c2706b2c2c6c"
      },
      "execution_count": null,
      "outputs": [
        {
          "output_type": "stream",
          "name": "stdout",
          "text": [
            "Enter Your Name..Faiz Bano\n",
            "Enter your City...Karachi\n",
            "Verb...teaching\n",
            "Animal Name...cat\n",
            "Enter Adjective....kind\n",
            "There was a Teacher his name was Faiz Bano he belongs to Karachi \n",
            " he was teaching in a School. he also had a pet cat\n",
            " he alway keep cat whith him and also in class because he was very kind not only with his students but also whith animals \n"
          ]
        }
      ]
    },
    {
      "cell_type": "code",
      "source": [],
      "metadata": {
        "id": "Ju6g92tfJl4n"
      },
      "execution_count": null,
      "outputs": []
    },
    {
      "cell_type": "markdown",
      "source": [
        "**Simple Calculator**"
      ],
      "metadata": {
        "id": "dllITwj-Jmto"
      }
    },
    {
      "cell_type": "code",
      "source": [
        "def simple_calculator():\n",
        "    first_num = float(input(\"Enter First Number: \"))\n",
        "    second_num = float(input(\"Enter Second Number: \"))\n",
        "    operation = input(\"Enter your operation (+, -, *, /): \")\n",
        "\n",
        "    if operation == \"+\":\n",
        "        print(f\"The sum is: {first_num + second_num}\")\n",
        "    elif operation == \"-\":\n",
        "        print(f\"The difference is: {first_num - second_num}\")\n",
        "    elif operation == \"*\":\n",
        "        print(f\"The product is: {first_num * second_num}\")\n",
        "    elif operation == \"/\":\n",
        "        if second_num != 0:\n",
        "            print(f\"The quotient is: {first_num / second_num}\")\n",
        "        else:\n",
        "            print(\"Error! Division by zero is not allowed.\")\n",
        "    else:\n",
        "        print(\"Invalid operation! Please enter +, -, *, or /.\")\n",
        "\n",
        "    # Ask user if they want to continue\n",
        "    again = input(\"Do you want to perform another calculation? (yes/no): \").strip().lower()\n",
        "    if again == \"yes\":\n",
        "        simple_calculator()\n",
        "    else:\n",
        "        print(\"Goodbye!\")\n",
        "\n",
        "# Call the function to run the calculator\n",
        "simple_calculator()\n",
        "\n",
        "\n",
        "\n",
        "\n",
        "\n",
        "\n",
        "def simple_calculator():\n",
        "    first_num = float(input(\"Enter First Number: \"))\n",
        "    second_num = float(input(\"Enter Second Number: \"))\n",
        "    operation = input(\"Enter your operation (+, -, *, /): \")\n",
        "\n",
        "    if operation == \"+\":\n",
        "        print(f\"The sum is: {first_num + second_num}\")\n",
        "    elif operation == \"-\":\n",
        "        print(f\"The difference is: {first_num - second_num}\")\n",
        "    elif operation == \"*\":\n",
        "        print(f\"The product is: {first_num * second_num}\")\n",
        "    elif operation == \"/\":\n",
        "        if second_num != 0:\n",
        "            print(f\"The quotient is: {first_num / second_num}\")\n",
        "        else:\n",
        "            print(\"Error! Division by zero is not allowed.\")\n",
        "    else:\n",
        "        print(\"Invalid operation! Please enter +, -, *, or /.\")\n",
        "\n",
        "    # Ask user if they want to continue\n",
        "    again = input(\"Do you want to perform another calculation? (yes/no): \").strip().lower()\n",
        "    if again == \"yes\":\n",
        "        simple_calculator()\n",
        "    else:\n",
        "        print(\"Goodbye!\")\n",
        "\n",
        "# Call the function to run the calculator\n",
        "simple_calculator()\n"
      ],
      "metadata": {
        "colab": {
          "base_uri": "https://localhost:8080/"
        },
        "id": "DzCew4vAJsG7",
        "outputId": "1f240e50-5213-4448-eab6-b1329357ba81"
      },
      "execution_count": null,
      "outputs": [
        {
          "output_type": "stream",
          "name": "stdout",
          "text": [
            "Enter First Number: 10\n",
            "Enter Second Number: 5\n",
            "Enter your operation (+, -, *, /): +\n",
            "The sum is: 15.0\n",
            "Do you want to perform another calculation? (yes/no): no\n",
            "Goodbye!\n"
          ]
        }
      ]
    }
  ]
}