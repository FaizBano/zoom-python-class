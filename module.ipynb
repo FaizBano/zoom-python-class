{
  "nbformat": 4,
  "nbformat_minor": 0,
  "metadata": {
    "colab": {
      "provenance": [],
      "authorship_tag": "ABX9TyPnu1FQ5MDfPM0xDMpU7ypm",
      "include_colab_link": true
    },
    "kernelspec": {
      "name": "python3",
      "display_name": "Python 3"
    },
    "language_info": {
      "name": "python"
    }
  },
  "cells": [
    {
      "cell_type": "markdown",
      "metadata": {
        "id": "view-in-github",
        "colab_type": "text"
      },
      "source": [
        "<a href=\"https://colab.research.google.com/github/FaizBano/zoom-python-class/blob/main/module.ipynb\" target=\"_parent\"><img src=\"https://colab.research.google.com/assets/colab-badge.svg\" alt=\"Open In Colab\"/></a>"
      ]
    },
    {
      "cell_type": "markdown",
      "source": [
        "**Builtin** modules"
      ],
      "metadata": {
        "id": "A9QfdU9yWk7Y"
      }
    },
    {
      "cell_type": "code",
      "source": [
        "import math\n",
        "print (math.floor(5))\n",
        "a=math.sqrt(10)\n",
        "print(a)"
      ],
      "metadata": {
        "id": "pbsKuWuYTV4-",
        "colab": {
          "base_uri": "https://localhost:8080/"
        },
        "outputId": "5bcdf7f5-121e-4939-f703-a9fc6c5d0401"
      },
      "execution_count": null,
      "outputs": [
        {
          "output_type": "stream",
          "name": "stdout",
          "text": [
            "5\n",
            "3.1622776601683795\n"
          ]
        }
      ]
    },
    {
      "cell_type": "code",
      "source": [
        "import random\n",
        "\n",
        "num = random.randint(1, 10)\n",
        "print(num)"
      ],
      "metadata": {
        "colab": {
          "base_uri": "https://localhost:8080/"
        },
        "id": "IOCzT8cfcQJR",
        "outputId": "f8cf2dde-be35-41f8-d42f-edacf2b7d6b5"
      },
      "execution_count": null,
      "outputs": [
        {
          "output_type": "stream",
          "name": "stdout",
          "text": [
            "9\n"
          ]
        }
      ]
    },
    {
      "cell_type": "code",
      "source": [
        "import time\n",
        "print(\"Hello World\")\n",
        "time.sleep(5)\n",
        "print(\"Hello Friday Class\")"
      ],
      "metadata": {
        "colab": {
          "base_uri": "https://localhost:8080/"
        },
        "id": "7r68vN5yc76B",
        "outputId": "b0691701-dc4f-4c8f-9a3b-32884f54fa66"
      },
      "execution_count": null,
      "outputs": [
        {
          "output_type": "stream",
          "name": "stdout",
          "text": [
            "Hello World\n",
            "Hello Friday Class\n"
          ]
        }
      ]
    }
  ]
}